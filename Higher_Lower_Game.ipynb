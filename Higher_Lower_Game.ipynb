{
  "nbformat": 4,
  "nbformat_minor": 0,
  "metadata": {
    "colab": {
      "provenance": [],
      "authorship_tag": "ABX9TyNcx4QhhFhEv5gI1B8T5nhY",
      "include_colab_link": true
    },
    "kernelspec": {
      "name": "python3",
      "display_name": "Python 3"
    },
    "language_info": {
      "name": "python"
    }
  },
  "cells": [
    {
      "cell_type": "markdown",
      "metadata": {
        "id": "view-in-github",
        "colab_type": "text"
      },
      "source": [
        "<a href=\"https://colab.research.google.com/github/singhadarsh9191/Higher-Lower-Game/blob/main/Higher_Lower_Game.ipynb\" target=\"_parent\"><img src=\"https://colab.research.google.com/assets/colab-badge.svg\" alt=\"Open In Colab\"/></a>"
      ]
    },
    {
      "cell_type": "code",
      "execution_count": null,
      "metadata": {
        "id": "Z-2h7XpwwLiM"
      },
      "outputs": [],
      "source": [
        "from game_data import data\n",
        "import random\n",
        "from art import logo, vs\n",
        "from replit import clear\n",
        "\n",
        "def get_random_account():\n",
        "  \"\"\"Get data from random account\"\"\"\n",
        "  return random.choice(data)\n",
        "\n",
        "def format_data(account):\n",
        "  \"\"\"Format account into printable format: name, description and country\"\"\"\n",
        "  name = account[\"name\"]\n",
        "  description = account[\"description\"]\n",
        "  country = account[\"country\"]\n",
        "  # print(f'{name}: {account[\"follower_count\"]}')\n",
        "  return f\"{name}, a {description}, from {country}\"\n",
        "\n",
        "def check_answer(guess, a_followers, b_followers):\n",
        "  \"\"\"Checks followers against user's guess\n",
        "  and returns True if they got it right.\n",
        "  Or False if they got it wrong.\"\"\"\n",
        "  if a_followers > b_followers:\n",
        "    return guess == \"a\"\n",
        "  else:\n",
        "    return guess == \"b\"\n",
        "\n",
        "\n",
        "def game():\n",
        "  print(logo)\n",
        "  score = 0\n",
        "  game_should_continue = True\n",
        "  account_a = get_random_account()\n",
        "  account_b = get_random_account()\n",
        "\n",
        "  while game_should_continue:\n",
        "    account_a = account_b\n",
        "    account_b = get_random_account()\n",
        "\n",
        "    while account_a == account_b:\n",
        "      account_b = get_random_account()\n",
        "\n",
        "    print(f\"Compare A: {format_data(account_a)}.\")\n",
        "    print(vs)\n",
        "    print(f\"Against B: {format_data(account_b)}.\")\n",
        "\n",
        "    guess = input(\"Who has more followers? Type 'A' or 'B': \").lower()\n",
        "    a_follower_count = account_a[\"follower_count\"]\n",
        "    b_follower_count = account_b[\"follower_count\"]\n",
        "    is_correct = check_answer(guess, a_follower_count, b_follower_count)\n",
        "\n",
        "    clear()\n",
        "    print(logo)\n",
        "    if is_correct:\n",
        "      score += 1\n",
        "      print(f\"You're right! Current score: {score}.\")\n",
        "    else:\n",
        "      game_should_continue = False\n",
        "      print(f\"Sorry, that's wrong. Final score: {score}\")\n",
        "\n",
        "game()\n"
      ]
    }
  ]
}